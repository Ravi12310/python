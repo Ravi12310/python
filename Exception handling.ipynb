{
 "cells": [
  {
   "cell_type": "code",
   "execution_count": 6,
   "metadata": {},
   "outputs": [
    {
     "name": "stdout",
     "output_type": "stream",
     "text": [
      "this file is not available\n",
      "9\n"
     ]
    }
   ],
   "source": [
    "try:\n",
    "    f = open(\"xyz.txt\")\n",
    "    f.write(\"hdREIH\")\n",
    "except:\n",
    "    print(\"this file is not available\")\n",
    "else:\n",
    "    print(\"ashasiudhi\")\n",
    "finally:\n",
    "    print(4+5)\n"
   ]
  },
  {
   "cell_type": "code",
   "execution_count": 7,
   "metadata": {},
   "outputs": [
    {
     "name": "stdout",
     "output_type": "stream",
     "text": [
      "ashasiudhi\n",
      "9\n"
     ]
    }
   ],
   "source": [
    "try:\n",
    "    4+5\n",
    "    #f = open(\"xyz.txt\")\n",
    "    #f.write(\"hdREIH\")\n",
    "except:\n",
    "    print(\"this file is not available\")\n",
    "else:\n",
    "    print(\"ashasiudhi\")\n",
    "finally:\n",
    "    print(4+5)\n"
   ]
  },
  {
   "cell_type": "code",
   "execution_count": 9,
   "metadata": {},
   "outputs": [
    {
     "name": "stdout",
     "output_type": "stream",
     "text": [
      "ashasiudhi\n",
      "9\n",
      "[Errno 2] No such file or directory: 'yzx.txt'\n"
     ]
    }
   ],
   "source": [
    "try:\n",
    "    4+5\n",
    "    #f = open(\"xyz.txt\")\n",
    "    #f.write(\"hdREIH\")\n",
    "except:\n",
    "    print(\"this file is not available\")\n",
    "else:\n",
    "    print(\"ashasiudhi\")\n",
    "finally:\n",
    "    print(4+5)\n",
    "    try: \n",
    "        f = open(\"yzx.txt\")\n",
    "    except Exception as f:\n",
    "        print(f)"
   ]
  },
  {
   "cell_type": "code",
   "execution_count": 19,
   "metadata": {},
   "outputs": [],
   "source": [
    "def askint():\n",
    "    try:\n",
    "        v = int(input(\"Please try to enter an integer\"))\n",
    "    except Exception as e:\n",
    "        print(e)\n",
    "    finally:\n",
    "        print(\"this is a finally block so execte this\")\n",
    "        try:\n",
    "            print(v)\n",
    "        except Exception as e:\n",
    "            print(e)\n",
    "        else:\n",
    "            print(\"i have a value of v\")"
   ]
  },
  {
   "cell_type": "code",
   "execution_count": 21,
   "metadata": {},
   "outputs": [
    {
     "name": "stdout",
     "output_type": "stream",
     "text": [
      "Please try to enter an integer12\n",
      "this is a finally block so execte this\n",
      "12\n",
      "i have a value of v\n"
     ]
    }
   ],
   "source": [
    "askint()"
   ]
  },
  {
   "cell_type": "code",
   "execution_count": 18,
   "metadata": {},
   "outputs": [
    {
     "name": "stdout",
     "output_type": "stream",
     "text": [
      "Please try to enter an integer45\n",
      "this is a finally block so execte this\n",
      "45\n"
     ]
    }
   ],
   "source": [
    "askint()"
   ]
  },
  {
   "cell_type": "code",
   "execution_count": 1,
   "metadata": {},
   "outputs": [],
   "source": [
    "def askint():\n",
    "    while True:\n",
    "        try:\n",
    "            v = int(input(\"Please try to enter an integer\"))\n",
    "        except Exception as e:\n",
    "            print(e)\n",
    "            continue\n",
    "        finally:\n",
    "            print(\"this is a finally block so execte this\")\n",
    "        "
   ]
  },
  {
   "cell_type": "code",
   "execution_count": null,
   "metadata": {},
   "outputs": [
    {
     "name": "stdout",
     "output_type": "stream",
     "text": [
      "Please try to enter an integerdhodhio\n",
      "invalid literal for int() with base 10: 'dhodhio'\n",
      "this is a finally block so execte this\n",
      "Please try to enter an integerodjfodf\n",
      "invalid literal for int() with base 10: 'odjfodf'\n",
      "this is a finally block so execte this\n",
      "Please try to enter an integerodjodlf\n",
      "invalid literal for int() with base 10: 'odjodlf'\n",
      "this is a finally block so execte this\n",
      "Please try to enter an integer89\n",
      "this is a finally block so execte this\n"
     ]
    }
   ],
   "source": [
    "askint()"
   ]
  },
  {
   "cell_type": "code",
   "execution_count": 1,
   "metadata": {},
   "outputs": [],
   "source": [
    "def askint():\n",
    "    while True:\n",
    "        try:\n",
    "            v = int(input(\"Please try to enter an integer\"))\n",
    "        except Exception as e:\n",
    "            print(e)\n",
    "            continue\n",
    "        else:\n",
    "            print(\"yes i am able to get an integer\")\n",
    "            break\n",
    "        finally:\n",
    "            print(\"this is a finally block so execte this\")\n",
    "        "
   ]
  },
  {
   "cell_type": "code",
   "execution_count": 3,
   "metadata": {},
   "outputs": [
    {
     "name": "stdout",
     "output_type": "stream",
     "text": [
      "Please try to enter an integer67\n",
      "yes i am able to get an integer\n",
      "this is a finally block so execte this\n"
     ]
    }
   ],
   "source": [
    "askint()"
   ]
  },
  {
   "cell_type": "code",
   "execution_count": 6,
   "metadata": {},
   "outputs": [],
   "source": [
    "def askint():\n",
    "    while True:\n",
    "        try:\n",
    "            v = int(input(\"Please try to enter an integer\"))\n",
    "        except Exception as e:\n",
    "            print(e)\n",
    "            continue\n",
    "        else:\n",
    "            print(\"yes i am able to get an integer\")\n",
    "            break\n",
    "        finally:\n",
    "            print(\"this is a finally block so execte this\")\n",
    "    print(v)"
   ]
  },
  {
   "cell_type": "code",
   "execution_count": 7,
   "metadata": {},
   "outputs": [
    {
     "name": "stdout",
     "output_type": "stream",
     "text": [
      "Please try to enter an integerjfjo\n",
      "invalid literal for int() with base 10: 'jfjo'\n",
      "this is a finally block so execte this\n",
      "Please try to enter an integer56\n",
      "yes i am able to get an integer\n",
      "this is a finally block so execte this\n",
      "56\n"
     ]
    }
   ],
   "source": [
    "askint()"
   ]
  },
  {
   "cell_type": "code",
   "execution_count": 13,
   "metadata": {},
   "outputs": [
    {
     "name": "stdout",
     "output_type": "stream",
     "text": [
      "[Errno 2] No such file or directory: 'yzx.txt'\n"
     ]
    }
   ],
   "source": [
    "try:\n",
    "    f = open(\"yzx.txt\")\n",
    "    f.write(\"my name is ravi\")\n",
    "except IOError as e:\n",
    "    print(e)"
   ]
  },
  {
   "cell_type": "code",
   "execution_count": 15,
   "metadata": {},
   "outputs": [
    {
     "name": "stdout",
     "output_type": "stream",
     "text": [
      "[Errno 2] No such file or directory: 'yzx.txt'\n"
     ]
    }
   ],
   "source": [
    "try:\n",
    "    f = open(\"yzx.txt\")\n",
    "    f.write(\"my name is ravi\")\n",
    "except FileNotFoundError as e:\n",
    "    print(e)"
   ]
  },
  {
   "cell_type": "code",
   "execution_count": 26,
   "metadata": {},
   "outputs": [
    {
     "name": "stdout",
     "output_type": "stream",
     "text": [
      "this is another os error\n"
     ]
    }
   ],
   "source": [
    "try:\n",
    "    f = open(\"yzx.txt\")\n",
    "    f.write(\"my name is ravi\")\n",
    "except FileExistsError as e:\n",
    "    print(e)\n",
    "except OSError:\n",
    "    print(\"this is another os error\")\n",
    "except IOError:\n",
    "    print(\"this is io error\")\n",
    "except FileNotFoundError:\n",
    "    print(\"this is file not found error\")\n",
    "except ValueError:\n",
    "    print(\"this is a error\")\n",
    "except Exception as e:\n",
    "    print(\"this is a super of all exceptions\")"
   ]
  },
  {
   "cell_type": "code",
   "execution_count": 27,
   "metadata": {},
   "outputs": [
    {
     "name": "stdout",
     "output_type": "stream",
     "text": [
      "this is a super of all exceptions\n"
     ]
    }
   ],
   "source": [
    "try:\n",
    "    f = open(\"yzx.txt\")\n",
    "    f.write(\"my name is ravi\")\n",
    "except Exception as e:\n",
    "    print(\"this is a super of all exceptions\")\n",
    "except FileExistsError as e:\n",
    "    print(e)\n",
    "except OSError:\n",
    "    print(\"this is another os error\")\n",
    "except IOError:\n",
    "    print(\"this is io error\")\n",
    "except FileNotFoundError:\n",
    "    print(\"this is file not found error\")\n",
    "except ValueError:\n",
    "    print(\"this is a error\")\n"
   ]
  },
  {
   "cell_type": "code",
   "execution_count": 28,
   "metadata": {},
   "outputs": [
    {
     "name": "stdout",
     "output_type": "stream",
     "text": [
      "there is an error with code\n"
     ]
    }
   ],
   "source": [
    "try:\n",
    "    f = open('ravi.txt')\n",
    "    f.write(\"dhjkdhk\")\n",
    "except (OSError,FileNotFoundError,FileExistsError,ValueError,Exception):\n",
    "    print(\"there is an error with code\")"
   ]
  },
  {
   "cell_type": "code",
   "execution_count": 30,
   "metadata": {},
   "outputs": [
    {
     "name": "stdout",
     "output_type": "stream",
     "text": [
      "there is an error with code\n"
     ]
    }
   ],
   "source": [
    "try:\n",
    "    f = open('ravi.txt')\n",
    "    f.write(\"dhjkdhk\")\n",
    "except (FileExistsError,ValueError,Exception):\n",
    "    print(\"there is an error with code\")"
   ]
  },
  {
   "cell_type": "code",
   "execution_count": 34,
   "metadata": {},
   "outputs": [
    {
     "name": "stdout",
     "output_type": "stream",
     "text": [
      "try to insert an integer:1\n",
      "this is not an integer i was looking for\n"
     ]
    }
   ],
   "source": [
    "try:\n",
    "    v = int(input(\"try to insert an integer:\"))\n",
    "    if v < 2:\n",
    "        raise ValueError(\"this is not an integer i was looking for\")\n",
    "except ValueError as e:\n",
    "    print(e)"
   ]
  },
  {
   "cell_type": "code",
   "execution_count": 36,
   "metadata": {},
   "outputs": [
    {
     "name": "stdout",
     "output_type": "stream",
     "text": [
      "try to insert an integer:2\n",
      "this is not an integer i was looking for\n"
     ]
    }
   ],
   "source": [
    "try:\n",
    "    v = int(input(\"try to insert an integer:\"))\n",
    "    f = 56/v\n",
    "    if v == 2:\n",
    "        raise ValueError(\"this is not an integer i was looking for\")\n",
    "except ValueError as e:\n",
    "    print(e)"
   ]
  },
  {
   "cell_type": "markdown",
   "metadata": {},
   "source": []
  }
 ],
 "metadata": {
  "kernelspec": {
   "display_name": "Python 3",
   "language": "python",
   "name": "python3"
  },
  "language_info": {
   "codemirror_mode": {
    "name": "ipython",
    "version": 3
   },
   "file_extension": ".py",
   "mimetype": "text/x-python",
   "name": "python",
   "nbconvert_exporter": "python",
   "pygments_lexer": "ipython3",
   "version": "3.7.4"
  }
 },
 "nbformat": 4,
 "nbformat_minor": 2
}
