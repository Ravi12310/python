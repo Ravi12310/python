{
 "cells": [
  {
   "cell_type": "code",
   "execution_count": 1,
   "metadata": {},
   "outputs": [],
   "source": [
    "import sqlite3"
   ]
  },
  {
   "cell_type": "code",
   "execution_count": 2,
   "metadata": {},
   "outputs": [],
   "source": [
    "c = sqlite3.connect(\"xyz\")"
   ]
  },
  {
   "cell_type": "code",
   "execution_count": 3,
   "metadata": {},
   "outputs": [
    {
     "data": {
      "text/plain": [
       "<sqlite3.Cursor at 0x248510ffb20>"
      ]
     },
     "execution_count": 3,
     "metadata": {},
     "output_type": "execute_result"
    }
   ],
   "source": [
    "c.execute(\"drop table if exists abc\")"
   ]
  },
  {
   "cell_type": "code",
   "execution_count": 4,
   "metadata": {},
   "outputs": [
    {
     "data": {
      "text/plain": [
       "<sqlite3.Cursor at 0x248510ffea0>"
      ]
     },
     "execution_count": 4,
     "metadata": {},
     "output_type": "execute_result"
    }
   ],
   "source": [
    "c.execute(\"create table abc(id int,name text,score int)\")"
   ]
  },
  {
   "cell_type": "code",
   "execution_count": 6,
   "metadata": {},
   "outputs": [
    {
     "data": {
      "text/plain": [
       "<sqlite3.Cursor at 0x24851f21340>"
      ]
     },
     "execution_count": 6,
     "metadata": {},
     "output_type": "execute_result"
    }
   ],
   "source": [
    "c.execute(\"insert into abc(id,name,score)values(345,'ravi',56678)\")"
   ]
  },
  {
   "cell_type": "code",
   "execution_count": 7,
   "metadata": {},
   "outputs": [],
   "source": [
    "c.commit()"
   ]
  },
  {
   "cell_type": "code",
   "execution_count": 8,
   "metadata": {},
   "outputs": [
    {
     "data": {
      "text/plain": [
       "<sqlite3.Cursor at 0x24851f21960>"
      ]
     },
     "execution_count": 8,
     "metadata": {},
     "output_type": "execute_result"
    }
   ],
   "source": [
    "c.execute(\"insert into abc(id,name,score)values(345,'ravi',56678)\")\n",
    "c.execute(\"insert into abc(id,name,score)values(346,'ravi1',56678)\")\n",
    "c.execute(\"insert into abc(id,name,score)values(347,'ravi2',56678)\")\n",
    "c.execute(\"insert into abc(id,name,score)values(348,'ravi3',56678)\")\n",
    "c.execute(\"insert into abc(id,name,score)values(349,'ravi4',56678)\")\n",
    "c.execute(\"insert into abc(id,name,score)values(344,'ravi5',56678)\")\n",
    "c.execute(\"insert into abc(id,name,score)values(343,'ravi6',56678)\")\n",
    "c.execute(\"insert into abc(id,name,score)values(342,'ravi7',56678)\")\n",
    "c.execute(\"insert into abc(id,name,score)values(341,'ravi8',56678)\")"
   ]
  },
  {
   "cell_type": "code",
   "execution_count": 9,
   "metadata": {},
   "outputs": [],
   "source": [
    "c.commit()"
   ]
  },
  {
   "cell_type": "code",
   "execution_count": 10,
   "metadata": {},
   "outputs": [
    {
     "data": {
      "text/plain": [
       "<sqlite3.Cursor at 0x24851f21ce0>"
      ]
     },
     "execution_count": 10,
     "metadata": {},
     "output_type": "execute_result"
    }
   ],
   "source": [
    "c.execute(\"select *from abc\")"
   ]
  },
  {
   "cell_type": "code",
   "execution_count": 12,
   "metadata": {},
   "outputs": [
    {
     "data": {
      "text/plain": [
       "[(345, 'ravi', 56678),\n",
       " (345, 'ravi', 56678),\n",
       " (346, 'ravi1', 56678),\n",
       " (347, 'ravi2', 56678),\n",
       " (348, 'ravi3', 56678),\n",
       " (349, 'ravi4', 56678),\n",
       " (344, 'ravi5', 56678),\n",
       " (343, 'ravi6', 56678),\n",
       " (342, 'ravi7', 56678),\n",
       " (341, 'ravi8', 56678)]"
      ]
     },
     "execution_count": 12,
     "metadata": {},
     "output_type": "execute_result"
    }
   ],
   "source": [
    "list(c.execute(\"select *from abc\"))"
   ]
  },
  {
   "cell_type": "code",
   "execution_count": 13,
   "metadata": {},
   "outputs": [
    {
     "data": {
      "text/plain": [
       "(345, 'ravi', 56678)"
      ]
     },
     "execution_count": 13,
     "metadata": {},
     "output_type": "execute_result"
    }
   ],
   "source": [
    "list(c.execute(\"select *from abc\"))[0]"
   ]
  },
  {
   "cell_type": "code",
   "execution_count": 14,
   "metadata": {},
   "outputs": [
    {
     "data": {
      "text/plain": [
       "tuple"
      ]
     },
     "execution_count": 14,
     "metadata": {},
     "output_type": "execute_result"
    }
   ],
   "source": [
    "type(list(c.execute(\"select *from abc\"))[0])"
   ]
  },
  {
   "cell_type": "code",
   "execution_count": 15,
   "metadata": {},
   "outputs": [
    {
     "name": "stdout",
     "output_type": "stream",
     "text": [
      "(345, 'ravi', 56678)\n",
      "(345, 'ravi', 56678)\n",
      "(346, 'ravi1', 56678)\n",
      "(347, 'ravi2', 56678)\n",
      "(348, 'ravi3', 56678)\n",
      "(349, 'ravi4', 56678)\n",
      "(344, 'ravi5', 56678)\n",
      "(343, 'ravi6', 56678)\n",
      "(342, 'ravi7', 56678)\n",
      "(341, 'ravi8', 56678)\n"
     ]
    }
   ],
   "source": [
    "for i in list(c.execute(\"select *from abc\")):\n",
    "    print(i)"
   ]
  },
  {
   "cell_type": "code",
   "execution_count": 17,
   "metadata": {},
   "outputs": [
    {
     "name": "stdout",
     "output_type": "stream",
     "text": [
      "(345, 'ravi', 56678)\n",
      "(345, 'ravi', 56678)\n",
      "(346, 'ravi1', 56678)\n",
      "(347, 'ravi2', 56678)\n",
      "(348, 'ravi3', 56678)\n",
      "(349, 'ravi4', 56678)\n",
      "(344, 'ravi5', 56678)\n",
      "(343, 'ravi6', 56678)\n",
      "(342, 'ravi7', 56678)\n",
      "(341, 'ravi8', 56678)\n"
     ]
    }
   ],
   "source": [
    "for i in c.execute(\"select * from abc order by score\"):\n",
    "    print(i)"
   ]
  },
  {
   "cell_type": "code",
   "execution_count": 20,
   "metadata": {},
   "outputs": [
    {
     "name": "stdout",
     "output_type": "stream",
     "text": [
      "(346, 'ravi1')\n"
     ]
    }
   ],
   "source": [
    "for i in c.execute(\"select id,name from abc where name = 'ravi1'\"):\n",
    "    print(i)"
   ]
  },
  {
   "cell_type": "code",
   "execution_count": 1,
   "metadata": {},
   "outputs": [
    {
     "name": "stdout",
     "output_type": "stream",
     "text": [
      "Collecting mysql\n",
      "Note: you may need to restart the kernel to use updated packages.\n"
     ]
    },
    {
     "name": "stderr",
     "output_type": "stream",
     "text": [
      "  WARNING: Retrying (Retry(total=4, connect=None, read=None, redirect=None, status=None)) after connection broken by 'NewConnectionError('<pip._vendor.urllib3.connection.VerifiedHTTPSConnection object at 0x000001AE0B0E52C8>: Failed to establish a new connection: [Errno 11001] getaddrinfo failed')': /simple/mysql/\n",
      "  WARNING: Retrying (Retry(total=3, connect=None, read=None, redirect=None, status=None)) after connection broken by 'NewConnectionError('<pip._vendor.urllib3.connection.VerifiedHTTPSConnection object at 0x000001AE0B0F36C8>: Failed to establish a new connection: [Errno 11001] getaddrinfo failed')': /simple/mysql/\n",
      "  WARNING: Retrying (Retry(total=2, connect=None, read=None, redirect=None, status=None)) after connection broken by 'NewConnectionError('<pip._vendor.urllib3.connection.VerifiedHTTPSConnection object at 0x000001AE0B1233C8>: Failed to establish a new connection: [Errno 11001] getaddrinfo failed')': /simple/mysql/\n",
      "  WARNING: Retrying (Retry(total=1, connect=None, read=None, redirect=None, status=None)) after connection broken by 'NewConnectionError('<pip._vendor.urllib3.connection.VerifiedHTTPSConnection object at 0x000001AE0B123F88>: Failed to establish a new connection: [Errno 11001] getaddrinfo failed')': /simple/mysql/\n",
      "  WARNING: Retrying (Retry(total=0, connect=None, read=None, redirect=None, status=None)) after connection broken by 'NewConnectionError('<pip._vendor.urllib3.connection.VerifiedHTTPSConnection object at 0x000001AE0B123A48>: Failed to establish a new connection: [Errno 11001] getaddrinfo failed')': /simple/mysql/\n",
      "  ERROR: Could not find a version that satisfies the requirement mysql (from versions: none)\n",
      "ERROR: No matching distribution found for mysql\n"
     ]
    }
   ],
   "source": [
    "pip install mysql"
   ]
  },
  {
   "cell_type": "code",
   "execution_count": null,
   "metadata": {},
   "outputs": [],
   "source": []
  },
  {
   "cell_type": "code",
   "execution_count": 7,
   "metadata": {},
   "outputs": [
    {
     "name": "stdout",
     "output_type": "stream",
     "text": [
      "Collecting mysql-connector\n",
      "Note: you may need to restart the kernel to use updated packages.\n"
     ]
    },
    {
     "name": "stderr",
     "output_type": "stream",
     "text": [
      "  WARNING: Retrying (Retry(total=4, connect=None, read=None, redirect=None, status=None)) after connection broken by 'NewConnectionError('<pip._vendor.urllib3.connection.VerifiedHTTPSConnection object at 0x000001FD589A3808>: Failed to establish a new connection: [Errno 11001] getaddrinfo failed')': /simple/mysql-connector/\n",
      "  WARNING: Retrying (Retry(total=3, connect=None, read=None, redirect=None, status=None)) after connection broken by 'NewConnectionError('<pip._vendor.urllib3.connection.VerifiedHTTPSConnection object at 0x000001FD589B1DC8>: Failed to establish a new connection: [Errno 11001] getaddrinfo failed')': /simple/mysql-connector/\n",
      "  WARNING: Retrying (Retry(total=2, connect=None, read=None, redirect=None, status=None)) after connection broken by 'NewConnectionError('<pip._vendor.urllib3.connection.VerifiedHTTPSConnection object at 0x000001FD589AB648>: Failed to establish a new connection: [Errno 11001] getaddrinfo failed')': /simple/mysql-connector/\n",
      "  WARNING: Retrying (Retry(total=1, connect=None, read=None, redirect=None, status=None)) after connection broken by 'NewConnectionError('<pip._vendor.urllib3.connection.VerifiedHTTPSConnection object at 0x000001FD589AB4C8>: Failed to establish a new connection: [Errno 11001] getaddrinfo failed')': /simple/mysql-connector/\n",
      "  WARNING: Retrying (Retry(total=0, connect=None, read=None, redirect=None, status=None)) after connection broken by 'NewConnectionError('<pip._vendor.urllib3.connection.VerifiedHTTPSConnection object at 0x000001FD589ABEC8>: Failed to establish a new connection: [Errno 11001] getaddrinfo failed')': /simple/mysql-connector/\n",
      "  ERROR: Could not find a version that satisfies the requirement mysql-connector (from versions: none)\n",
      "ERROR: No matching distribution found for mysql-connector\n"
     ]
    }
   ],
   "source": [
    "pip install mysql-connector"
   ]
  },
  {
   "cell_type": "code",
   "execution_count": null,
   "metadata": {},
   "outputs": [],
   "source": []
  }
 ],
 "metadata": {
  "kernelspec": {
   "display_name": "Python 3",
   "language": "python",
   "name": "python3"
  },
  "language_info": {
   "codemirror_mode": {
    "name": "ipython",
    "version": 3
   },
   "file_extension": ".py",
   "mimetype": "text/x-python",
   "name": "python",
   "nbconvert_exporter": "python",
   "pygments_lexer": "ipython3",
   "version": "3.7.4"
  }
 },
 "nbformat": 4,
 "nbformat_minor": 2
}
